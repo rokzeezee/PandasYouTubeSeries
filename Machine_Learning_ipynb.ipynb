{
  "nbformat": 4,
  "nbformat_minor": 0,
  "metadata": {
    "colab": {
      "provenance": [],
      "authorship_tag": "ABX9TyOAhO8qgGjmDvnljXwLQ/Q1",
      "include_colab_link": true
    },
    "kernelspec": {
      "name": "python3",
      "display_name": "Python 3"
    },
    "language_info": {
      "name": "python"
    }
  },
  "cells": [
    {
      "cell_type": "markdown",
      "metadata": {
        "id": "view-in-github",
        "colab_type": "text"
      },
      "source": [
        "<a href=\"https://colab.research.google.com/github/rokzeezee/PandasYouTubeSeries/blob/main/Machine_Learning_ipynb.ipynb\" target=\"_parent\"><img src=\"https://colab.research.google.com/assets/colab-badge.svg\" alt=\"Open In Colab\"/></a>"
      ]
    },
    {
      "cell_type": "code",
      "source": [
        "import pandas as pd\n",
        "from sklearn.tree import DecisionTreeClassifier\n",
        "from sklearn import tree\n",
        "#from sklearn.model_selection import train_test_split\n",
        "##from sklearn.metrics import accuracy_score\n",
        "import joblib as jb\n",
        "\n",
        "df=pd.read_csv(\"/content/music.csv\")\n",
        "X=df.drop(columns= [\"genre\"])\n",
        "Y= df[\"genre\"]\n",
        "\n",
        "\n",
        "\n",
        "# #X_train ,X_test ,Y_train ,Y_test= train_test_split(X,Y,test_size = 0.2)\n",
        "\n",
        "\n",
        "model = DecisionTreeClassifier()\n",
        "model.fit( X , Y)\n",
        "tree.export_graphviz(model, out_file= \"show_off.dot\",\n",
        "                     feature_names= [\"age  \" , \"gender\"],\n",
        "                     class_names=sorted(Y.unique()),\n",
        "                     label = \"all\",\n",
        "                     rounded = True,\n",
        "                     filled = True)\n",
        "\n",
        "\n",
        "#jb.dump (model , \"show_off.joblib\")\n",
        "#model = jb.load(\"/content/show_off.joblib\")\n",
        "\n",
        "#prediction = model.predict([[22,0]])\n",
        "#prediction\n",
        "\n",
        "\n",
        "#model.fit( X_train , Y_train)\n",
        "\n",
        "#prediction = model.predict([[21,1],[22,0]])\n",
        "#prediction = model.predict(X_test)\n",
        "#score = accuracy_score(Y_test ,prediction)\n",
        "#score "
      ],
      "metadata": {
        "id": "BK4Tz-Dxa3Qc"
      },
      "execution_count": 70,
      "outputs": []
    },
    {
      "cell_type": "code",
      "source": [
        "# # # # Accuracy \n",
        "# # # # from sklearn.model_selection import train_test_split (for training and testing )\n",
        "# from sklearn.metrics import accuracy_score\n",
        "# from sklearn.externals import joblib (for saving and loading modules)\n",
        "#import joblib as jb\n",
        "# # # train_test_split(X,Y,test_size = 0.2)\n",
        "\n",
        "# # X_train ,X_test ,Y_train ,Y_test=  train_test_split(X,Y,test_size = 0.2)\n",
        "# #  model.fit( X_train , Y_train)(tranning input and output)"
      ],
      "metadata": {
        "id": "bMrSW-lQs6cl"
      },
      "execution_count": null,
      "outputs": []
    }
  ]
}